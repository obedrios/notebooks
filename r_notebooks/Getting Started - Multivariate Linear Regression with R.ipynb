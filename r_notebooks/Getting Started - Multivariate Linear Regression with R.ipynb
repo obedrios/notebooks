{
 "cells": [
  {
   "cell_type": "markdown",
   "id": "d2b01c08",
   "metadata": {},
   "source": [
    "# Getting Started - Multivariate Linear Regression with R\n",
    "Revision 1.0"
   ]
  },
  {
   "cell_type": "markdown",
   "id": "2ec752c8",
   "metadata": {},
   "source": [
    "## Multivariate Linear Regression warmup with lm() with mtcars dataset\n",
    "\n",
    "**Web Resources**\n",
    "- https://www.rdocumentation.org/packages/datasets/versions/3.6.2/topics/mtcars\n",
    "- https://stats.stackexchange.com/questions/44838/how-are-the-standard-errors-of-coefficients-calculated-in-a-regression\n",
    "- https://gattonweb.uky.edu/sheather/book/"
   ]
  },
  {
   "cell_type": "code",
   "execution_count": 1,
   "id": "6dacd29c",
   "metadata": {},
   "outputs": [
    {
     "data": {
      "text/html": [
       "<table class=\"dataframe\">\n",
       "<caption>A data.frame: 6 × 11</caption>\n",
       "<thead>\n",
       "\t<tr><th></th><th scope=col>mpg</th><th scope=col>cyl</th><th scope=col>disp</th><th scope=col>hp</th><th scope=col>drat</th><th scope=col>wt</th><th scope=col>qsec</th><th scope=col>vs</th><th scope=col>am</th><th scope=col>gear</th><th scope=col>carb</th></tr>\n",
       "\t<tr><th></th><th scope=col>&lt;dbl&gt;</th><th scope=col>&lt;dbl&gt;</th><th scope=col>&lt;dbl&gt;</th><th scope=col>&lt;dbl&gt;</th><th scope=col>&lt;dbl&gt;</th><th scope=col>&lt;dbl&gt;</th><th scope=col>&lt;dbl&gt;</th><th scope=col>&lt;dbl&gt;</th><th scope=col>&lt;dbl&gt;</th><th scope=col>&lt;dbl&gt;</th><th scope=col>&lt;dbl&gt;</th></tr>\n",
       "</thead>\n",
       "<tbody>\n",
       "\t<tr><th scope=row>Mazda RX4</th><td>21.0</td><td>6</td><td>160</td><td>110</td><td>3.90</td><td>2.620</td><td>16.46</td><td>0</td><td>1</td><td>4</td><td>4</td></tr>\n",
       "\t<tr><th scope=row>Mazda RX4 Wag</th><td>21.0</td><td>6</td><td>160</td><td>110</td><td>3.90</td><td>2.875</td><td>17.02</td><td>0</td><td>1</td><td>4</td><td>4</td></tr>\n",
       "\t<tr><th scope=row>Datsun 710</th><td>22.8</td><td>4</td><td>108</td><td> 93</td><td>3.85</td><td>2.320</td><td>18.61</td><td>1</td><td>1</td><td>4</td><td>1</td></tr>\n",
       "\t<tr><th scope=row>Hornet 4 Drive</th><td>21.4</td><td>6</td><td>258</td><td>110</td><td>3.08</td><td>3.215</td><td>19.44</td><td>1</td><td>0</td><td>3</td><td>1</td></tr>\n",
       "\t<tr><th scope=row>Hornet Sportabout</th><td>18.7</td><td>8</td><td>360</td><td>175</td><td>3.15</td><td>3.440</td><td>17.02</td><td>0</td><td>0</td><td>3</td><td>2</td></tr>\n",
       "\t<tr><th scope=row>Valiant</th><td>18.1</td><td>6</td><td>225</td><td>105</td><td>2.76</td><td>3.460</td><td>20.22</td><td>1</td><td>0</td><td>3</td><td>1</td></tr>\n",
       "</tbody>\n",
       "</table>\n"
      ],
      "text/latex": [
       "A data.frame: 6 × 11\n",
       "\\begin{tabular}{r|lllllllllll}\n",
       "  & mpg & cyl & disp & hp & drat & wt & qsec & vs & am & gear & carb\\\\\n",
       "  & <dbl> & <dbl> & <dbl> & <dbl> & <dbl> & <dbl> & <dbl> & <dbl> & <dbl> & <dbl> & <dbl>\\\\\n",
       "\\hline\n",
       "\tMazda RX4 & 21.0 & 6 & 160 & 110 & 3.90 & 2.620 & 16.46 & 0 & 1 & 4 & 4\\\\\n",
       "\tMazda RX4 Wag & 21.0 & 6 & 160 & 110 & 3.90 & 2.875 & 17.02 & 0 & 1 & 4 & 4\\\\\n",
       "\tDatsun 710 & 22.8 & 4 & 108 &  93 & 3.85 & 2.320 & 18.61 & 1 & 1 & 4 & 1\\\\\n",
       "\tHornet 4 Drive & 21.4 & 6 & 258 & 110 & 3.08 & 3.215 & 19.44 & 1 & 0 & 3 & 1\\\\\n",
       "\tHornet Sportabout & 18.7 & 8 & 360 & 175 & 3.15 & 3.440 & 17.02 & 0 & 0 & 3 & 2\\\\\n",
       "\tValiant & 18.1 & 6 & 225 & 105 & 2.76 & 3.460 & 20.22 & 1 & 0 & 3 & 1\\\\\n",
       "\\end{tabular}\n"
      ],
      "text/markdown": [
       "\n",
       "A data.frame: 6 × 11\n",
       "\n",
       "| <!--/--> | mpg &lt;dbl&gt; | cyl &lt;dbl&gt; | disp &lt;dbl&gt; | hp &lt;dbl&gt; | drat &lt;dbl&gt; | wt &lt;dbl&gt; | qsec &lt;dbl&gt; | vs &lt;dbl&gt; | am &lt;dbl&gt; | gear &lt;dbl&gt; | carb &lt;dbl&gt; |\n",
       "|---|---|---|---|---|---|---|---|---|---|---|---|\n",
       "| Mazda RX4 | 21.0 | 6 | 160 | 110 | 3.90 | 2.620 | 16.46 | 0 | 1 | 4 | 4 |\n",
       "| Mazda RX4 Wag | 21.0 | 6 | 160 | 110 | 3.90 | 2.875 | 17.02 | 0 | 1 | 4 | 4 |\n",
       "| Datsun 710 | 22.8 | 4 | 108 |  93 | 3.85 | 2.320 | 18.61 | 1 | 1 | 4 | 1 |\n",
       "| Hornet 4 Drive | 21.4 | 6 | 258 | 110 | 3.08 | 3.215 | 19.44 | 1 | 0 | 3 | 1 |\n",
       "| Hornet Sportabout | 18.7 | 8 | 360 | 175 | 3.15 | 3.440 | 17.02 | 0 | 0 | 3 | 2 |\n",
       "| Valiant | 18.1 | 6 | 225 | 105 | 2.76 | 3.460 | 20.22 | 1 | 0 | 3 | 1 |\n",
       "\n"
      ],
      "text/plain": [
       "                  mpg  cyl disp hp  drat wt    qsec  vs am gear carb\n",
       "Mazda RX4         21.0 6   160  110 3.90 2.620 16.46 0  1  4    4   \n",
       "Mazda RX4 Wag     21.0 6   160  110 3.90 2.875 17.02 0  1  4    4   \n",
       "Datsun 710        22.8 4   108   93 3.85 2.320 18.61 1  1  4    1   \n",
       "Hornet 4 Drive    21.4 6   258  110 3.08 3.215 19.44 1  0  3    1   \n",
       "Hornet Sportabout 18.7 8   360  175 3.15 3.440 17.02 0  0  3    2   \n",
       "Valiant           18.1 6   225  105 2.76 3.460 20.22 1  0  3    1   "
      ]
     },
     "metadata": {},
     "output_type": "display_data"
    }
   ],
   "source": [
    "head(mtcars)"
   ]
  },
  {
   "cell_type": "code",
   "execution_count": 2,
   "id": "7c1bd071",
   "metadata": {},
   "outputs": [
    {
     "data": {
      "text/plain": [
       "\n",
       "Call:\n",
       "lm(formula = mtcars$hp ~ mtcars$mpg + mtcars$wt + mtcars$qsec)\n",
       "\n",
       "Residuals:\n",
       "    Min      1Q  Median      3Q     Max \n",
       "-48.392 -14.285  -6.816  12.320  97.624 \n",
       "\n",
       "Coefficients:\n",
       "            Estimate Std. Error t value Pr(>|t|)    \n",
       "(Intercept)  494.570     78.276   6.318 7.81e-07 ***\n",
       "mtcars$mpg    -2.700      2.269  -1.190   0.2442    \n",
       "mtcars$wt     25.042     12.892   1.942   0.0622 .  \n",
       "mtcars$qsec  -20.966      3.865  -5.425 8.68e-06 ***\n",
       "---\n",
       "Signif. codes:  0 '***' 0.001 '**' 0.01 '*' 0.05 '.' 0.1 ' ' 1\n",
       "\n",
       "Residual standard error: 31.73 on 28 degrees of freedom\n",
       "Multiple R-squared:  0.8066,\tAdjusted R-squared:  0.7859 \n",
       "F-statistic: 38.93 on 3 and 28 DF,  p-value: 4.017e-10\n"
      ]
     },
     "metadata": {},
     "output_type": "display_data"
    }
   ],
   "source": [
    "linreg.fit <- lm(mtcars$hp~mtcars$mpg + mtcars$wt + mtcars$qsec)\n",
    "summary(linreg.fit)"
   ]
  },
  {
   "cell_type": "code",
   "execution_count": 37,
   "id": "enabling-zealand",
   "metadata": {},
   "outputs": [
    {
     "data": {
      "text/html": [
       "<table class=\"dataframe\">\n",
       "<caption>A matrix: 1 × 4 of type dbl</caption>\n",
       "<thead>\n",
       "\t<tr><th scope=col>(Intercept)</th><th scope=col>mtcars$mpg</th><th scope=col>mtcars$wt</th><th scope=col>mtcars$qsec</th></tr>\n",
       "</thead>\n",
       "<tbody>\n",
       "\t<tr><td>78.27597</td><td>2.269247</td><td>12.89193</td><td>3.864521</td></tr>\n",
       "</tbody>\n",
       "</table>\n"
      ],
      "text/latex": [
       "A matrix: 1 × 4 of type dbl\n",
       "\\begin{tabular}{llll}\n",
       " (Intercept) & mtcars\\$mpg & mtcars\\$wt & mtcars\\$qsec\\\\\n",
       "\\hline\n",
       "\t 78.27597 & 2.269247 & 12.89193 & 3.864521\\\\\n",
       "\\end{tabular}\n"
      ],
      "text/markdown": [
       "\n",
       "A matrix: 1 × 4 of type dbl\n",
       "\n",
       "| (Intercept) | mtcars$mpg | mtcars$wt | mtcars$qsec |\n",
       "|---|---|---|---|\n",
       "| 78.27597 | 2.269247 | 12.89193 | 3.864521 |\n",
       "\n"
      ],
      "text/plain": [
       "     (Intercept) mtcars$mpg mtcars$wt mtcars$qsec\n",
       "[1,] 78.27597    2.269247   12.89193  3.864521   "
      ]
     },
     "metadata": {},
     "output_type": "display_data"
    }
   ],
   "source": [
    "t(sqrt(diag(vcov(linreg.fit))))"
   ]
  },
  {
   "cell_type": "markdown",
   "id": "second-bishop",
   "metadata": {},
   "source": [
    "## Multivariate Linear Regression warmup through linear algebra with mtcars dataset"
   ]
  },
  {
   "cell_type": "code",
   "execution_count": 16,
   "id": "fixed-flavor",
   "metadata": {},
   "outputs": [],
   "source": [
    "# Pseudo Inverse compute function\n",
    "pseudo.inv <- function(M){\n",
    "  solve(t(M)%*%M)%*%t(M)\n",
    "}\n",
    "\n",
    "# Fit Model for simple linear regresion\n",
    "linear.model <- function(t) {\n",
    "  c(t, 1)\n",
    "}\n",
    "\n",
    "# Sum of square through dot product\n",
    "sum.squares <- function(v){\n",
    "    t(matrix(v)) %*% matrix(v)\n",
    "}"
   ]
  },
  {
   "cell_type": "code",
   "execution_count": 26,
   "id": "adjustable-school",
   "metadata": {},
   "outputs": [
    {
     "data": {
      "text/html": [
       "<table class=\"dataframe\">\n",
       "<caption>A matrix: 4 × 1 of type dbl</caption>\n",
       "<tbody>\n",
       "\t<tr><th scope=row>mpg</th><td> -2.699598</td></tr>\n",
       "\t<tr><th scope=row>wt</th><td> 25.042342</td></tr>\n",
       "\t<tr><th scope=row>qsec</th><td>-20.965780</td></tr>\n",
       "\t<tr><th scope=row>intercept</th><td>494.569588</td></tr>\n",
       "</tbody>\n",
       "</table>\n"
      ],
      "text/latex": [
       "A matrix: 4 × 1 of type dbl\n",
       "\\begin{tabular}{r|l}\n",
       "\tmpg &  -2.699598\\\\\n",
       "\twt &  25.042342\\\\\n",
       "\tqsec & -20.965780\\\\\n",
       "\tintercept & 494.569588\\\\\n",
       "\\end{tabular}\n"
      ],
      "text/markdown": [
       "\n",
       "A matrix: 4 × 1 of type dbl\n",
       "\n",
       "| mpg |  -2.699598 |\n",
       "| wt |  25.042342 |\n",
       "| qsec | -20.965780 |\n",
       "| intercept | 494.569588 |\n",
       "\n"
      ],
      "text/plain": [
       "          [,1]      \n",
       "mpg        -2.699598\n",
       "wt         25.042342\n",
       "qsec      -20.965780\n",
       "intercept 494.569588"
      ]
     },
     "metadata": {},
     "output_type": "display_data"
    }
   ],
   "source": [
    "A <- cbind(mtcars$mpg, mtcars$wt, mtcars$qsec, 1) # Design or measurements matrix\n",
    "linear.coefs <- pseudo.inv(A)%*%matrix(mtcars$hp) # Coefficients Estimation\n",
    "rownames(linear.coefs) <- c(\"mpg\", \"wt\", \"qsec\", \"intercept\")\n",
    "linear.coefs"
   ]
  },
  {
   "cell_type": "code",
   "execution_count": 121,
   "id": "frank-spider",
   "metadata": {
    "scrolled": true
   },
   "outputs": [
    {
     "data": {
      "text/html": [
       "<table class=\"dataframe\">\n",
       "<caption>A data.frame: 4 × 4</caption>\n",
       "<thead>\n",
       "\t<tr><th></th><th scope=col>coeffs</th><th scope=col>stderr</th><th scope=col>tvals</th><th scope=col>pvalues</th></tr>\n",
       "\t<tr><th></th><th scope=col>&lt;dbl&gt;</th><th scope=col>&lt;dbl&gt;</th><th scope=col>&lt;dbl&gt;</th><th scope=col>&lt;dbl&gt;</th></tr>\n",
       "</thead>\n",
       "<tbody>\n",
       "\t<tr><th scope=row>mpg</th><td> -2.699598</td><td> 2.269247</td><td>-1.189645</td><td>2.441762e-01</td></tr>\n",
       "\t<tr><th scope=row>wt</th><td> 25.042342</td><td>12.891932</td><td> 1.942482</td><td>6.219801e-02</td></tr>\n",
       "\t<tr><th scope=row>qsec</th><td>-20.965780</td><td> 3.864521</td><td>-5.425195</td><td>8.684578e-06</td></tr>\n",
       "\t<tr><th scope=row>intercept</th><td>494.569588</td><td>78.275972</td><td> 6.318281</td><td>7.805802e-07</td></tr>\n",
       "</tbody>\n",
       "</table>\n"
      ],
      "text/latex": [
       "A data.frame: 4 × 4\n",
       "\\begin{tabular}{r|llll}\n",
       "  & coeffs & stderr & tvals & pvalues\\\\\n",
       "  & <dbl> & <dbl> & <dbl> & <dbl>\\\\\n",
       "\\hline\n",
       "\tmpg &  -2.699598 &  2.269247 & -1.189645 & 2.441762e-01\\\\\n",
       "\twt &  25.042342 & 12.891932 &  1.942482 & 6.219801e-02\\\\\n",
       "\tqsec & -20.965780 &  3.864521 & -5.425195 & 8.684578e-06\\\\\n",
       "\tintercept & 494.569588 & 78.275972 &  6.318281 & 7.805802e-07\\\\\n",
       "\\end{tabular}\n"
      ],
      "text/markdown": [
       "\n",
       "A data.frame: 4 × 4\n",
       "\n",
       "| <!--/--> | coeffs &lt;dbl&gt; | stderr &lt;dbl&gt; | tvals &lt;dbl&gt; | pvalues &lt;dbl&gt; |\n",
       "|---|---|---|---|---|\n",
       "| mpg |  -2.699598 |  2.269247 | -1.189645 | 2.441762e-01 |\n",
       "| wt |  25.042342 | 12.891932 |  1.942482 | 6.219801e-02 |\n",
       "| qsec | -20.965780 |  3.864521 | -5.425195 | 8.684578e-06 |\n",
       "| intercept | 494.569588 | 78.275972 |  6.318281 | 7.805802e-07 |\n",
       "\n"
      ],
      "text/plain": [
       "          coeffs     stderr    tvals     pvalues     \n",
       "mpg        -2.699598  2.269247 -1.189645 2.441762e-01\n",
       "wt         25.042342 12.891932  1.942482 6.219801e-02\n",
       "qsec      -20.965780  3.864521 -5.425195 8.684578e-06\n",
       "intercept 494.569588 78.275972  6.318281 7.805802e-07"
      ]
     },
     "metadata": {},
     "output_type": "display_data"
    }
   ],
   "source": [
    "sigma.sq <- sum((matrix(mtcars$hp) - A%*%linear.coefs)^2)/(nrow(A) - ncol(A)) # Sigma squared\n",
    "m.varcovar <- sigma.sq*chol2inv(chol(t(A)%*%A))                               # variance-covariance matrix using QR decomposition\n",
    "m.stderrors <- sqrt(diag(m.varcovar))                                         # Coefficients Std Error Vector\n",
    "linear.results <- data.frame(coeffs = linear.coefs, stderr = m.stderrors, tvals = linear.coefs/m.stderrors)\n",
    "linear.results$pvalues <- 2*pt(abs(linear.results$tvals), nrow(A) - ncol(A), lower.tail = FALSE)\n",
    "linear.results"
   ]
  },
  {
   "cell_type": "code",
   "execution_count": 123,
   "id": "filled-coaching",
   "metadata": {},
   "outputs": [
    {
     "data": {
      "text/html": [
       "<table class=\"dataframe\">\n",
       "<caption>A data.frame: 4 × 6</caption>\n",
       "<thead>\n",
       "\t<tr><th></th><th scope=col>coeffs</th><th scope=col>stderr</th><th scope=col>tvals</th><th scope=col>pvalues</th><th scope=col>lwr.coeff</th><th scope=col>upr.coeff</th></tr>\n",
       "\t<tr><th></th><th scope=col>&lt;dbl&gt;</th><th scope=col>&lt;dbl&gt;</th><th scope=col>&lt;dbl&gt;</th><th scope=col>&lt;dbl&gt;</th><th scope=col>&lt;dbl&gt;</th><th scope=col>&lt;dbl&gt;</th></tr>\n",
       "</thead>\n",
       "<tbody>\n",
       "\t<tr><th scope=row>mpg</th><td> -2.699598</td><td> 2.269247</td><td>-1.189645</td><td>2.441762e-01</td><td> -7.347938</td><td>  1.948743</td></tr>\n",
       "\t<tr><th scope=row>wt</th><td> 25.042342</td><td>12.891932</td><td> 1.942482</td><td>6.219801e-02</td><td> -1.365583</td><td> 51.450266</td></tr>\n",
       "\t<tr><th scope=row>qsec</th><td>-20.965780</td><td> 3.864521</td><td>-5.425195</td><td>8.684578e-06</td><td>-28.881891</td><td>-13.049668</td></tr>\n",
       "\t<tr><th scope=row>intercept</th><td>494.569588</td><td>78.275972</td><td> 6.318281</td><td>7.805802e-07</td><td>334.228528</td><td>654.910648</td></tr>\n",
       "</tbody>\n",
       "</table>\n"
      ],
      "text/latex": [
       "A data.frame: 4 × 6\n",
       "\\begin{tabular}{r|llllll}\n",
       "  & coeffs & stderr & tvals & pvalues & lwr.coeff & upr.coeff\\\\\n",
       "  & <dbl> & <dbl> & <dbl> & <dbl> & <dbl> & <dbl>\\\\\n",
       "\\hline\n",
       "\tmpg &  -2.699598 &  2.269247 & -1.189645 & 2.441762e-01 &  -7.347938 &   1.948743\\\\\n",
       "\twt &  25.042342 & 12.891932 &  1.942482 & 6.219801e-02 &  -1.365583 &  51.450266\\\\\n",
       "\tqsec & -20.965780 &  3.864521 & -5.425195 & 8.684578e-06 & -28.881891 & -13.049668\\\\\n",
       "\tintercept & 494.569588 & 78.275972 &  6.318281 & 7.805802e-07 & 334.228528 & 654.910648\\\\\n",
       "\\end{tabular}\n"
      ],
      "text/markdown": [
       "\n",
       "A data.frame: 4 × 6\n",
       "\n",
       "| <!--/--> | coeffs &lt;dbl&gt; | stderr &lt;dbl&gt; | tvals &lt;dbl&gt; | pvalues &lt;dbl&gt; | lwr.coeff &lt;dbl&gt; | upr.coeff &lt;dbl&gt; |\n",
       "|---|---|---|---|---|---|---|\n",
       "| mpg |  -2.699598 |  2.269247 | -1.189645 | 2.441762e-01 |  -7.347938 |   1.948743 |\n",
       "| wt |  25.042342 | 12.891932 |  1.942482 | 6.219801e-02 |  -1.365583 |  51.450266 |\n",
       "| qsec | -20.965780 |  3.864521 | -5.425195 | 8.684578e-06 | -28.881891 | -13.049668 |\n",
       "| intercept | 494.569588 | 78.275972 |  6.318281 | 7.805802e-07 | 334.228528 | 654.910648 |\n",
       "\n"
      ],
      "text/plain": [
       "          coeffs     stderr    tvals     pvalues      lwr.coeff  upr.coeff \n",
       "mpg        -2.699598  2.269247 -1.189645 2.441762e-01  -7.347938   1.948743\n",
       "wt         25.042342 12.891932  1.942482 6.219801e-02  -1.365583  51.450266\n",
       "qsec      -20.965780  3.864521 -5.425195 8.684578e-06 -28.881891 -13.049668\n",
       "intercept 494.569588 78.275972  6.318281 7.805802e-07 334.228528 654.910648"
      ]
     },
     "metadata": {},
     "output_type": "display_data"
    }
   ],
   "source": [
    "linear.results$lwr.coeff <- linear.results$coeffs - abs(qt(0.025, nrow(A)-ncol(A)))*linear.results$stderr\n",
    "linear.results$upr.coeff <- linear.results$coeffs + abs(qt(0.025, nrow(A)-ncol(A)))*linear.results$stderr\n",
    "linear.results"
   ]
  },
  {
   "cell_type": "code",
   "execution_count": 127,
   "id": "political-circular",
   "metadata": {},
   "outputs": [
    {
     "data": {
      "text/plain": [
       "   Min. 1st Qu.  Median    Mean 3rd Qu.    Max. \n",
       "-48.392 -14.285  -6.816   0.000  12.320  97.624 "
      ]
     },
     "metadata": {},
     "output_type": "display_data"
    }
   ],
   "source": [
    "y.hat <- linear.coefs[1]*mtcars$mpg + linear.coefs[2]*mtcars$wt + linear.coefs[3]*mtcars$qsec + linear.coefs[4]\n",
    "summary(mtcars$hp - y.hat)"
   ]
  },
  {
   "cell_type": "code",
   "execution_count": 128,
   "id": "competitive-symposium",
   "metadata": {},
   "outputs": [
    {
     "data": {
      "text/html": [
       "<table class=\"dataframe\">\n",
       "<caption>A matrix: 1 × 1 of type dbl</caption>\n",
       "<tbody>\n",
       "\t<tr><td>0.8066039</td></tr>\n",
       "</tbody>\n",
       "</table>\n"
      ],
      "text/latex": [
       "A matrix: 1 × 1 of type dbl\n",
       "\\begin{tabular}{l}\n",
       "\t 0.8066039\\\\\n",
       "\\end{tabular}\n"
      ],
      "text/markdown": [
       "\n",
       "A matrix: 1 × 1 of type dbl\n",
       "\n",
       "| 0.8066039 |\n",
       "\n"
      ],
      "text/plain": [
       "     [,1]     \n",
       "[1,] 0.8066039"
      ]
     },
     "metadata": {},
     "output_type": "display_data"
    }
   ],
   "source": [
    "SS.total  <- sum.squares(mtcars$hp - mean(mtcars$hp))      # Regression total sum of squares\n",
    "r.squared <- sum.squares(y.hat - mean(mtcars$hp))/SS.total # Is the same as SS.reg/SS.total = explained var/total var\n",
    "r.squared"
   ]
  },
  {
   "cell_type": "code",
   "execution_count": 135,
   "id": "equivalent-township",
   "metadata": {},
   "outputs": [
    {
     "data": {
      "text/html": [
       "<table class=\"dataframe\">\n",
       "<caption>A matrix: 1 × 1 of type dbl</caption>\n",
       "<tbody>\n",
       "\t<tr><td>38.92686</td></tr>\n",
       "</tbody>\n",
       "</table>\n"
      ],
      "text/latex": [
       "A matrix: 1 × 1 of type dbl\n",
       "\\begin{tabular}{l}\n",
       "\t 38.92686\\\\\n",
       "\\end{tabular}\n"
      ],
      "text/markdown": [
       "\n",
       "A matrix: 1 × 1 of type dbl\n",
       "\n",
       "| 38.92686 |\n",
       "\n"
      ],
      "text/plain": [
       "     [,1]    \n",
       "[1,] 38.92686"
      ]
     },
     "metadata": {},
     "output_type": "display_data"
    }
   ],
   "source": [
    "SS.err   <- sum.squares(mtcars$hp - y.hat) # Residuals sum of squares\n",
    "SS.reg   <- SS.total - SS.err              # Regression sum of squares\n",
    "MS.reg <- SS.reg/(ncol(A) - 1)             # Mean squares regression for multiple predictors\n",
    "MS.res <- sum.squares(mtcars$hp - y.hat)/(nrow(mtcars) - ncol(A))  # Mean squares residuals\n",
    "f.stat <- MS.reg/MS.res              # The ratio of explained to unexplained variability\n",
    "f.stat"
   ]
  },
  {
   "cell_type": "code",
   "execution_count": 136,
   "id": "civic-penny",
   "metadata": {},
   "outputs": [
    {
     "data": {
      "text/html": [
       "<table class=\"dataframe\">\n",
       "<caption>A matrix: 1 × 1 of type dbl</caption>\n",
       "<tbody>\n",
       "\t<tr><td>4.017096e-10</td></tr>\n",
       "</tbody>\n",
       "</table>\n"
      ],
      "text/latex": [
       "A matrix: 1 × 1 of type dbl\n",
       "\\begin{tabular}{l}\n",
       "\t 4.017096e-10\\\\\n",
       "\\end{tabular}\n"
      ],
      "text/markdown": [
       "\n",
       "A matrix: 1 × 1 of type dbl\n",
       "\n",
       "| 4.017096e-10 |\n",
       "\n"
      ],
      "text/plain": [
       "     [,1]        \n",
       "[1,] 4.017096e-10"
      ]
     },
     "metadata": {},
     "output_type": "display_data"
    }
   ],
   "source": [
    "pf(f.stat, ncol(A) - 1, nrow(A) - ncol(A), lower.tail = FALSE) # df1 = multiple predictors"
   ]
  },
  {
   "cell_type": "code",
   "execution_count": null,
   "id": "physical-recall",
   "metadata": {},
   "outputs": [],
   "source": []
  }
 ],
 "metadata": {
  "kernelspec": {
   "display_name": "R",
   "language": "R",
   "name": "ir"
  },
  "language_info": {
   "codemirror_mode": "r",
   "file_extension": ".r",
   "mimetype": "text/x-r-source",
   "name": "R",
   "pygments_lexer": "r",
   "version": "4.1.3"
  }
 },
 "nbformat": 4,
 "nbformat_minor": 5
}

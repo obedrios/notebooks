{
 "cells": [
  {
   "cell_type": "markdown",
   "id": "06d822b7",
   "metadata": {},
   "source": [
    "# Fundamentals in Python - Selected Topics Vol.1\n",
    "Rev 1.0\n",
    "\n",
    "**Web Resources:**\n",
    "- https://docs.python.org/3/tutorial/classes.html#generators\n",
    "- https://docs.python.org/3/library/itertools.html#module-itertools\n",
    "- https://realpython.com/introduction-to-python-generators/\n",
    "- https://www.programiz.com/python-programming/generator"
   ]
  },
  {
   "cell_type": "markdown",
   "id": "c1796720",
   "metadata": {},
   "source": [
    "## Generators"
   ]
  },
  {
   "cell_type": "code",
   "execution_count": 191,
   "id": "0fb93d78",
   "metadata": {},
   "outputs": [
    {
     "data": {
      "text/plain": [
       "[1, 4, 9, 16, 25, 36, 49, 64, 81, 100]"
      ]
     },
     "execution_count": 191,
     "metadata": {},
     "output_type": "execute_result"
    }
   ],
   "source": [
    "# Square number generator using iterator patterns\n",
    "class Squares:\n",
    "    \"\"\"\n",
    "    Squares Generator Iterator class\n",
    "    \"\"\"\n",
    "    def __init__(self, max=10):\n",
    "        self.n = 1\n",
    "        self.max = max\n",
    "\n",
    "    def __iter__(self):\n",
    "        return self\n",
    "\n",
    "    def __next__(self):\n",
    "        if self.n > self.max:\n",
    "            raise StopIteration\n",
    "        #\n",
    "        result = self.n ** 2\n",
    "        self.n += 1\n",
    "        return result\n",
    "\n",
    "sqrgen = Squares()\n",
    "[n for n in sqrgen]"
   ]
  },
  {
   "cell_type": "code",
   "execution_count": 196,
   "id": "8d600823",
   "metadata": {},
   "outputs": [
    {
     "name": "stdout",
     "output_type": "stream",
     "text": [
      "Generating squares from 1 to 100\n"
     ]
    },
    {
     "data": {
      "text/plain": [
       "[1, 4, 9, 16, 25, 36, 49, 64, 81, 100]"
      ]
     },
     "execution_count": 196,
     "metadata": {},
     "output_type": "execute_result"
    }
   ],
   "source": [
    "# Simple generator definition\n",
    "def squares(n = 10):\n",
    "    print(\"Generating squares from 1 to {}\".format(n ** 2))\n",
    "    for i in range(1, n + 1):\n",
    "        yield i ** 2\n",
    "#\n",
    "sqrgen = squares()\n",
    "[n for n in sqrgen]"
   ]
  },
  {
   "cell_type": "code",
   "execution_count": 197,
   "id": "ff2237c1",
   "metadata": {},
   "outputs": [
    {
     "data": {
      "text/plain": [
       "[1, 4, 9, 16, 25, 36, 49, 64, 81, 100]"
      ]
     },
     "execution_count": 197,
     "metadata": {},
     "output_type": "execute_result"
    }
   ],
   "source": [
    "# Generator Expressions\n",
    "sqrgen = ((n + 1)**2 for n in range(10))\n",
    "[n for n in sqrgen]"
   ]
  },
  {
   "cell_type": "code",
   "execution_count": 202,
   "id": "4e1f8855",
   "metadata": {},
   "outputs": [
    {
     "data": {
      "text/plain": [
       "[1, 4, 9, 16, 25, 36, 49, 64, 81, 100]"
      ]
     },
     "execution_count": 202,
     "metadata": {},
     "output_type": "execute_result"
    }
   ],
   "source": [
    "# Infinite Squence Generator\n",
    "def squares(start = 1):\n",
    "    n = start\n",
    "    while True:\n",
    "        yield n**2\n",
    "        n = n + 1\n",
    "\n",
    "sqrgen = squares(1)\n",
    "[next(sqrgen) for n in range(10)]"
   ]
  },
  {
   "cell_type": "markdown",
   "id": "c9b2c3b9",
   "metadata": {},
   "source": [
    "### Spatial and Time performance overview"
   ]
  },
  {
   "cell_type": "code",
   "execution_count": 174,
   "id": "3a40c2e4",
   "metadata": {},
   "outputs": [
    {
     "name": "stdout",
     "output_type": "stream",
     "text": [
      "squares with list-comprehension size in bytes: 8856\n",
      "squares with generator-expresions size in bytes: 112\n"
     ]
    }
   ],
   "source": [
    "import sys\n",
    "\n",
    "# Generating square number using list comprehension\n",
    "sqr_list = [n**2 for n in range(1000)] \n",
    "print(\"squares with list-comprehension size in bytes: {}\".format(sys.getsizeof(sqr_list)))\n",
    "\n",
    "# Generating square number using generator expressions\n",
    "sqr_gen = (n**2 for n in range(1000))\n",
    "print(\"squares with generator-expresions size in bytes: {}\".format(sys.getsizeof(sqr_gen)))"
   ]
  },
  {
   "cell_type": "code",
   "execution_count": 187,
   "id": "63e63e66",
   "metadata": {},
   "outputs": [
    {
     "name": "stdout",
     "output_type": "stream",
     "text": [
      "         5 function calls in 0.598 seconds\n",
      "\n",
      "   Ordered by: standard name\n",
      "\n",
      "   ncalls  tottime  percall  cumtime  percall filename:lineno(function)\n",
      "        1    0.561    0.561    0.561    0.561 <string>:1(<listcomp>)\n",
      "        1    0.016    0.016    0.598    0.598 <string>:1(<module>)\n",
      "        1    0.000    0.000    0.598    0.598 {built-in method builtins.exec}\n",
      "        1    0.020    0.020    0.020    0.020 {built-in method builtins.sum}\n",
      "        1    0.000    0.000    0.000    0.000 {method 'disable' of '_lsprof.Profiler' objects}\n",
      "\n",
      "\n",
      "         1000005 function calls in 0.795 seconds\n",
      "\n",
      "   Ordered by: standard name\n",
      "\n",
      "   ncalls  tottime  percall  cumtime  percall filename:lineno(function)\n",
      "  1000001    0.640    0.000    0.640    0.000 <string>:1(<genexpr>)\n",
      "        1    0.000    0.000    0.795    0.795 <string>:1(<module>)\n",
      "        1    0.000    0.000    0.795    0.795 {built-in method builtins.exec}\n",
      "        1    0.155    0.155    0.795    0.795 {built-in method builtins.sum}\n",
      "        1    0.000    0.000    0.000    0.000 {method 'disable' of '_lsprof.Profiler' objects}\n",
      "\n",
      "\n"
     ]
    }
   ],
   "source": [
    "import cProfile\n",
    "\n",
    "# Time profiling using list-comprehension\n",
    "cProfile.run('sum([n**2 for n in range(1000000)])') # Faster but high space penalty\n",
    "\n",
    "# Time profiling using generator-expressions\n",
    "cProfile.run('sum((n**2 for n in range(1000000)))') # Slower by high time penalty"
   ]
  },
  {
   "cell_type": "markdown",
   "id": "40e51070",
   "metadata": {},
   "source": [
    "### The fibonnaci sequence\n",
    "\n",
    "The Fibonacci sequence was first found by an Italian named Leonardo Pisano Bogollo (Fibonacci). The Fibonacci sequence is a sequence of whole numbers: 0, 1, 1, 2, 3, 5, 8, 13, 21, 34, ... This is an infinite sequence that starts with 0 and 1 and each term is the sum of the two preceding terms. This sequence has been termed \"nature's secret code\"\n",
    "\n",
    "**Web Resources**\n",
    "- https://www.cuemath.com/numbers/fibonacci-sequence/\n",
    "- https://www.programiz.com/python-programming/iterator"
   ]
  },
  {
   "cell_type": "code",
   "execution_count": 19,
   "id": "broke-fashion",
   "metadata": {},
   "outputs": [
    {
     "name": "stdout",
     "output_type": "stream",
     "text": [
      "0 - 0\n",
      "1 - 1\n",
      "2 - 1\n",
      "3 - 2\n",
      "4 - 3\n",
      "5 - 5\n",
      "6 - 8\n",
      "7 - 13\n",
      "8 - 21\n",
      "9 - 34\n"
     ]
    },
    {
     "data": {
      "text/plain": [
       "[(0, 0),\n",
       " (1, 1),\n",
       " (2, 1),\n",
       " (3, 2),\n",
       " (4, 3),\n",
       " (5, 5),\n",
       " (6, 8),\n",
       " (7, 13),\n",
       " (8, 21),\n",
       " (9, 34)]"
      ]
     },
     "execution_count": 19,
     "metadata": {},
     "output_type": "execute_result"
    }
   ],
   "source": [
    "# Square number generator using iterator patterns\n",
    "class Fibbonacci:\n",
    "    \"\"\"\n",
    "    Fibbonacci Generator Iterator class\n",
    "    \"\"\"\n",
    "    def __init__(self, nmax = 100):\n",
    "        self.previous = -1\n",
    "        self.next = 1\n",
    "        self.sum = 0\n",
    "        self.nmax = nmax\n",
    "\n",
    "    def __iter__(self):\n",
    "        return self\n",
    "\n",
    "    def __next__(self):\n",
    "        #Base Case\n",
    "        if self.sum == 0:\n",
    "            self.sum = self.sum + 1\n",
    "        # Sequence generation\n",
    "        self.sum = self.previous\n",
    "        self.previous = self.next\n",
    "        self.next = self.sum + self.previous\n",
    "        #\n",
    "        if self.next < self.nmax:\n",
    "            return self.next\n",
    "        else:\n",
    "            raise StopIteration\n",
    "\n",
    "#\n",
    "fibb_gen = Fibbonacci()\n",
    "for i, _ in enumerate(range(10)):\n",
    "    print(\"%d - %d\" % (i, next(fibb_gen)))\n",
    "#\n",
    "[(n) for n in enumerate(Fibbonacci(nmax = 50))]"
   ]
  },
  {
   "cell_type": "code",
   "execution_count": 117,
   "id": "1b171b82",
   "metadata": {},
   "outputs": [
    {
     "data": {
      "text/plain": [
       "[0, 1, 1, 2, 3, 5, 8, 13, 21, 34, 55, 89]"
      ]
     },
     "execution_count": 117,
     "metadata": {},
     "output_type": "execute_result"
    }
   ],
   "source": [
    "# Get the sequence of the fibbonaci numbers using a generator\n",
    "def fib(n=100):\n",
    "    a, b = 0, 1\n",
    "    while a < n:\n",
    "        yield a\n",
    "        a, b = b, a + b\n",
    "#\n",
    "[n for n in fib()]"
   ]
  },
  {
   "cell_type": "markdown",
   "id": "1ed03424",
   "metadata": {},
   "source": [
    "### The Factorial Sequences"
   ]
  },
  {
   "cell_type": "code",
   "execution_count": 138,
   "id": "1aef825b",
   "metadata": {},
   "outputs": [
    {
     "name": "stdout",
     "output_type": "stream",
     "text": [
      "5! computing using pure iteration: 120\n",
      "5! computing using recursive approach: 120\n"
     ]
    }
   ],
   "source": [
    "# Factorial computing using pure iteration\n",
    "def factorial(n):\n",
    "    fact = 1\n",
    "    for num in range(2, n + 1):\n",
    "        fact *= num\n",
    "    return fact\n",
    "\n",
    "print(\"5! computing using pure iteration: {}\".format(factorial(5)))\n",
    "\n",
    "# Factorial computing using recursive approach\n",
    "def factorial(n):\n",
    "    if n < 2:\n",
    "        return 1\n",
    "    else:\n",
    "        return n * factorial(n-1)\n",
    "\n",
    "print(\"5! computing using recursive approach: {}\".format(factorial(5)))\n"
   ]
  },
  {
   "cell_type": "code",
   "execution_count": 149,
   "id": "fabfe0c3",
   "metadata": {},
   "outputs": [
    {
     "data": {
      "text/plain": [
       "[1, 2, 6, 24, 120, 720, 5040, 40320, 362880, 3628800]"
      ]
     },
     "execution_count": 149,
     "metadata": {},
     "output_type": "execute_result"
    }
   ],
   "source": [
    "# Factorial computing sequence using generator Version 01\n",
    "# Resources:\n",
    "# https://stackoverflow.com/questions/5136447/function-for-factorial-in-python\n",
    "# https://stackoverflow.com/questions/48950073/factorial-program-in-python-using-generator\n",
    "def factorial(n=10):\n",
    "    fact = 1\n",
    "    for num in range(1, n + 1):\n",
    "        fact *= num\n",
    "        yield fact\n",
    "#\n",
    "[n for n in factorial()]"
   ]
  },
  {
   "cell_type": "code",
   "execution_count": 88,
   "id": "57e7d608",
   "metadata": {},
   "outputs": [
    {
     "data": {
      "text/plain": [
       "[1, 2, 6, 24, 120, 720, 5040, 40320, 362880, 3628800]"
      ]
     },
     "execution_count": 88,
     "metadata": {},
     "output_type": "execute_result"
    }
   ],
   "source": [
    "# Factorial computing using infinite sequence\n",
    "def factorial():\n",
    "    # Base cases for the sequence\n",
    "    fact, nextfact = 1, 1 # If we want to start the sequence from the 5th index then\n",
    "                          # fact, nextfact = 120, 5\n",
    "    while True:\n",
    "        yield fact\n",
    "        nextfact += 1\n",
    "        fact = fact*nextfact\n",
    "\n",
    "factgen = factorial()\n",
    "[next(factgen) for n in range(10)]"
   ]
  },
  {
   "cell_type": "code",
   "execution_count": 154,
   "id": "0e5f7acd",
   "metadata": {},
   "outputs": [
    {
     "data": {
      "text/plain": [
       "[1, 1, 2, 6, 24, 120, 720, 5040, 40320, 362880, 3628800]"
      ]
     },
     "execution_count": 154,
     "metadata": {},
     "output_type": "execute_result"
    }
   ],
   "source": [
    "# Factorial computing using generator with recursion\n",
    "# nevertheless infinite recursion breaks itself at some point\n",
    "# due the depth recursion limit (not recommended!!!).\n",
    "def factorial(n, t):\n",
    "    yield t\n",
    "    yield from factorial(n + 1, n * t)\n",
    "\n",
    "temp = factorial(1,1)\n",
    "[next(temp) for n in range(11)]"
   ]
  },
  {
   "cell_type": "code",
   "execution_count": 94,
   "id": "ba5653fc",
   "metadata": {},
   "outputs": [
    {
     "data": {
      "text/plain": [
       "[1, 1, 2, 6, 24, 120, 720, 5040, 40320, 362880, 3628800]"
      ]
     },
     "execution_count": 94,
     "metadata": {},
     "output_type": "execute_result"
    }
   ],
   "source": [
    "# Factorial computing using functools and operator modules\n",
    "import functools, operator\n",
    "\n",
    "factgen = lambda n: functools.reduce(operator.mul, (m + 1 for m in range(n)), 1)\n",
    "[factgen(i) for i in range(11)]"
   ]
  },
  {
   "cell_type": "markdown",
   "id": "b4fe6f4c",
   "metadata": {},
   "source": [
    "### The sum of $n$ natural numbers"
   ]
  },
  {
   "cell_type": "markdown",
   "id": "a519ddd8",
   "metadata": {},
   "source": [
    "The Sum of n natural numbers can be defined as a form of arithmetic progression where the sum of $n$ terms are arranged in a sequence where the first term being 1, and $n$ being the number of terms along with the *nth* term. The sum of $n$ natural numbers is represented as:\n",
    "$$\n",
    "\\sum_1^n=\\frac{n(n+1)}{2}\n",
    "$$\n",
    "Natural numbers are the numbers that start from $1$ and end at infinity. Natural numbers include whole numbers in them except the number $0$."
   ]
  },
  {
   "cell_type": "code",
   "execution_count": 115,
   "id": "57d46f4d",
   "metadata": {},
   "outputs": [
    {
     "name": "stdout",
     "output_type": "stream",
     "text": [
      "The sum of 100 using the recursion is 5050.\n",
      "The sum of 100 using the formula is 5050.\n",
      "The sum of 100 using a generator comprehension is 5050.\n",
      "\n",
      "The sequence of the sum of natural numbers:\n",
      "[0, 1, 3, 6, 10, 15, 21, 28, 36, 45, 55, 66, 78, 91, 105, 120, 136, 153, 171, 190, 210, 231, 253, 276, 300, 325, 351, 378, 406, 435, 465, 496, 528, 561, 595, 630, 666, 703, 741, 780, 820, 861, 903, 946, 990, 1035, 1081, 1128, 1176, 1225, 1275, 1326, 1378, 1431, 1485, 1540, 1596, 1653, 1711, 1770, 1830, 1891, 1953, 2016, 2080, 2145, 2211, 2278, 2346, 2415, 2485, 2556, 2628, 2701, 2775, 2850, 2926, 3003, 3081, 3160, 3240, 3321, 3403, 3486, 3570, 3655, 3741, 3828, 3916, 4005, 4095, 4186, 4278, 4371, 4465, 4560, 4656, 4753, 4851, 4950, 5050]\n"
     ]
    }
   ],
   "source": [
    "# Python Program to find Sum of N Natural Numbers using recursion\n",
    "def sum_n(n = 100):\n",
    "    if(n == 0): return n\n",
    "    else: return (n + sum_n(n - 1))\n",
    "\n",
    "print('The sum of 100 using the recursion is {}.'.format(sum_n()))\n",
    "\n",
    "\n",
    "# Sum of n natural number given the formula\n",
    "sum_n = lambda n: (n*(n+1))/2\n",
    "print('The sum of 100 using the formula is {}.'.format(int(sum_n(100))))\n",
    "\n",
    "\n",
    "# Sum of natural number given the generator comprehension\n",
    "nsum = sum((n + 1 for n in range(100)))\n",
    "print('The sum of 100 using a generator comprehension is {}.'.format(nsum))\n",
    "\n",
    "\n",
    "# Get the sequence of the sum of natural numbers using a generator\n",
    "def sum_n(n = 10):\n",
    "    num = 0\n",
    "    for i in range(n):\n",
    "        num += i\n",
    "        yield num\n",
    "print(\"\\nThe sequence of the sum of natural numbers:\")        \n",
    "print([n for n in sum_n(101)])"
   ]
  },
  {
   "cell_type": "markdown",
   "id": "22faff2d",
   "metadata": {},
   "source": [
    "## Unit testing with Python"
   ]
  },
  {
   "cell_type": "code",
   "execution_count": 3,
   "id": "0a0ae180",
   "metadata": {},
   "outputs": [],
   "source": [
    "import unittest\n",
    "\n",
    "class SomeTestClass(unittest.TestCase):\n",
    "    \n",
    "    def test_somefeatures(self):\n",
    "        self.assertEqual(\"a\", \"a\")"
   ]
  },
  {
   "cell_type": "code",
   "execution_count": 5,
   "id": "6dc07b19",
   "metadata": {},
   "outputs": [
    {
     "name": "stderr",
     "output_type": "stream",
     "text": [
      ".\n",
      "----------------------------------------------------------------------\n",
      "Ran 1 test in 0.003s\n",
      "\n",
      "OK\n"
     ]
    },
    {
     "data": {
      "text/plain": [
       "<unittest.main.TestProgram at 0x7fc4ddd3c640>"
      ]
     },
     "execution_count": 5,
     "metadata": {},
     "output_type": "execute_result"
    }
   ],
   "source": [
    "# Executing unittest.main() in Jupyter will result in an error. \n",
    "# The reason is that unittest.main( ) looks at sys.argv. In Jupyter, by default, the first parameter of sys.argv \n",
    "# is what started the Jupyter kernel which is not the case when executing it from the command line. \n",
    "# This default parameter is passed into unittest.main( ) as an attribute when you don't explicitly pass\n",
    "# it attributes and is therefore what causes the error about the kernel connection file not being a valid attribute.\n",
    "# Passing an explicit list to unittest.main( ) prevents it from looking at sys.argv.\n",
    "unittest.main(argv=['first-arg-ignored'], exit=False)"
   ]
  },
  {
   "cell_type": "code",
   "execution_count": null,
   "id": "29be106b",
   "metadata": {},
   "outputs": [],
   "source": []
  }
 ],
 "metadata": {
  "kernelspec": {
   "display_name": "Python 3",
   "language": "python",
   "name": "python3"
  },
  "language_info": {
   "codemirror_mode": {
    "name": "ipython",
    "version": 3
   },
   "file_extension": ".py",
   "mimetype": "text/x-python",
   "name": "python",
   "nbconvert_exporter": "python",
   "pygments_lexer": "ipython3",
   "version": "3.8.7"
  }
 },
 "nbformat": 4,
 "nbformat_minor": 5
}
